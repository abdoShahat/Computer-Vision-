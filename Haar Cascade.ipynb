{
 "cells": [
  {
   "cell_type": "markdown",
   "metadata": {},
   "source": [
    "# In this Chapter we will know :-\n",
    "• How to use Haar cascades\n",
    "\n",
    "• What are integral images\n",
    "\n",
    "• What is adaptive boosting\n",
    "\n",
    "• How to detect and track faces in a live video stream\n",
    "\n",
    "• How to detect and track eyes in a live video stream\n",
    "\n",
    "• How to automatically overlay sunglasses on top of a person's face\n",
    "\n",
    "• How to detect ears, nose, and mouth\n",
    "\n",
    "• How to detect pupils using shape analysis"
   ]
  },
  {
   "cell_type": "markdown",
   "metadata": {},
   "source": [
    "# Using Haar cascades to detect things"
   ]
  },
  {
   "cell_type": "raw",
   "metadata": {},
   "source": [
    "When we say Haar cascades, we are actually talking about cascade classifiers based on Haar features. To understand what this means, we need to take a step back and understand why we need this in the first place. Back in 2001, Paul Viola and Michael Jones came up with a very effective object detection method in their seminal paper. It has become one of the major landmarks in the field of machine learning. \n",
    "In their paper, they have described a machine learning technique where a boosted cascade of simple classifiers is used to get an overall classifier that performs really well. This way, we can circumvent the process of building a single complex classifier that performs with high accuracy. The reason this is so amazing is because building a robust single-step classifier is a computationally intensive process. Besides, we need a lot of training data to build such a classifier. The model ends up becoming complex and the performance might not be up to the mark.\n"
   ]
  },
  {
   "cell_type": "markdown",
   "metadata": {},
   "source": [
    "Let's say we want to detect an object like, say, a pineapple. To solve this, we need to build a machine learning system that will learn what a pineapple looks like. It should be able to tell us if an unknown image contains a pineapple or not. To achieve something like this, we need to train our system. In the realm of machine learning, we have a lot of methods available to train a system. It's a lot like training a dog, except that it won't fetch the ball for you! To train our system, we take a lot of pineapple and non-pineapple images, and then feed them into the system. Here, pineapple images are called positive images and the non-pineapple images are called negative images."
   ]
  },
  {
   "cell_type": "markdown",
   "metadata": {},
   "source": [
    "# Coming to the topic of face detection,\n",
    "let's see how to train a system to detect faces. If we want to build a machine learning system, we first need to extract features from all the images. In our case, the machine learning algorithms will use these features to learn what a face looks like. We use Haar features to build our feature vectors. Haar features are simple summations and differences of patches across the image. We do this at multiple image sizes to make sure our system is scale invariant."
   ]
  },
  {
   "cell_type": "markdown",
   "metadata": {},
   "source": [
    "# What are integral images?"
   ]
  },
  {
   "cell_type": "markdown",
   "metadata": {},
   "source": [
    "If we want to compute Haar features, we will have to compute the summations of many different rectangular regions within the image. If we want to effectively build the feature set, we need to compute these summations at multiple scales. This is a very expensive process! If we want to build a real time system, we cannot spend so many cycles in computing these sums. So we use something called integral images"
   ]
  },
  {
   "attachments": {
    "1.PNG": {
     "image/png": "[encoded data removed]"
    }
   },
   "cell_type": "markdown",
   "metadata": {},
   "source": [
    "![1.PNG](attachment:1.PNG)"
   ]
  },
  {
   "cell_type": "markdown",
   "metadata": {},
   "source": [
    "# Detecting and tracking faces"
   ]
  },
  {
   "cell_type": "code",
   "execution_count": null,
   "metadata": {},
   "outputs": [],
   "source": [
    "import cv2 \n",
    "import numpy as np \n",
    "from os import path "
   ]
  },
  {
   "cell_type": "code",
   "execution_count": null,
   "metadata": {},
   "outputs": [],
   "source": [
    "# read the xml file of haarcascade\n",
    "xml_classifier = path.join(path.dirname(cv2.__file__),'data','haarcascade_frontalface_default.xml')\n",
    "face_cascade = cv2.CascadeClassifier(xml_classifier)\n",
    "\n",
    "cap = cv2.VideoCapture(0)\n",
    "scaling_factor = 1.5\n",
    "\n",
    "#reading from live cam \n",
    "while True:\n",
    "    ret,frame = cap.read()\n",
    "    frame = cv2.resize(frame,None,fx=scaling_factor,fy=scaling_factor,interpolation = cv2.INTER_AREA)\n",
    "    gray = cv2.cvtColor(frame,cv2.COLOR_BGR2GRAY)\n",
    "    \n",
    "    # detectMultscale to detect all the faces in the image , 1.3>> time to check \n",
    "    face_rects = face_cascade.detectMultiScale(gray,1.3,5) \n",
    "    for(x,y,w,h) in face_rects:\n",
    "        cv2.rectangle(frame,(x,y),(x+w,y+h),(0,255,0),2)\n",
    "    \n",
    "    cv2.imshow('Face Detector',frame)\n",
    "    \n",
    "    c=cv2.waitKey(1)\n",
    "    if c==27:\n",
    "        break\n",
    "cap.release()\n",
    "cv2.destroyAllWindows()"
   ]
  },
  {
   "cell_type": "markdown",
   "metadata": {},
   "source": [
    "# Fun with faces"
   ]
  },
  {
   "cell_type": "code",
   "execution_count": null,
   "metadata": {},
   "outputs": [],
   "source": [
    "import cv2 \n",
    "import numpy as np \n",
    "import matplotlib.pyplot as plt \n",
    "%matplotlib inline"
   ]
  },
  {
   "cell_type": "code",
   "execution_count": null,
   "metadata": {},
   "outputs": [],
   "source": [
    "# show the mask \n",
    "face_mask = cv2.imread('HNBL.webp')\n",
    "copy = cv2.cvtColor(face_mask,cv2.COLOR_BGR2RGB)\n",
    "plt.imshow(copy)"
   ]
  },
  {
   "cell_type": "code",
   "execution_count": null,
   "metadata": {},
   "outputs": [],
   "source": [
    "h_mask , w_mask=face_mask.shape[:2]\n",
    "xml_classifier = path.join(path.dirname(cv2.__file__),'data','haarcascade_frontalface_default.xml')\n",
    "face_cascade = cv2.CascadeClassifier(xml_classifier)\n",
    "\n",
    "cap = cv2.VideoCapture(0)\n",
    "scaling_factor = 1.5\n",
    "\n",
    "while True :\n",
    "    ret,frame = cap.read()\n",
    "    frame = cv2.resize(frame,None,fx=scaling_factor,fy=scaling_factor,interpolation = cv2.INTER_AREA)\n",
    "    \n",
    "    gray = cv2.cvtColor(frame,cv2.COLOR_BGR2GRAY)\n",
    "    \n",
    "    face_rects = face_cascade.detectMultiScale(gray,1.3,5)\n",
    "    \n",
    "    for(x,y,w,h) in face_rects:\n",
    "        if h > 0 and w > 0:\n",
    "            h,w = int(1.4*h),int(1.0*w)\n",
    "            y -=0.1*h\n",
    "            y = int(y)\n",
    "            # Extract the region of interest from the image\n",
    "            frame_roi = frame[y:y+h , x:x+w]\n",
    "            face_mask_small = cv2.resize(face_mask,(w,h),interpolation=cv2.INTER_AREA)\n",
    "            \n",
    "            # Convert color image to grayscale and threshold it\n",
    "            gray_mask = cv2.cvtColor(face_mask_small,cv2.COLOR_BGR2GRAY)\n",
    "            \n",
    "            ret,mask = cv2.threshold(gray_mask,180,255,cv2.THRESH_BINARY_INV)\n",
    "            \n",
    "            # Create an inverse mask\n",
    "            mask_inv = cv2.bitwise_not(mask)\n",
    "            \n",
    "            # Use the mask to extract the face mask region of interest\n",
    "            masked_face = cv2.bitwise_and(face_mask_small,face_mask_small , mask=mask)\n",
    "            \n",
    "            # Use the inverse mask to get the remaining part of the image\n",
    "            masked_frame = cv2.bitwise_and(frame_roi, frame_roi, mask=mask_inv)\n",
    "            \n",
    "            # add the two images to get the final output\n",
    "            frame[y:y+h, x:x+w] = cv2.add(masked_face, masked_frame)\n",
    "            \n",
    "    cv2.imshow('Face Detector', frame)\n",
    "    c = cv2.waitKey(1)\n",
    "    if c==27:\n",
    "        break\n",
    "\n",
    "cap.release()\n",
    "cv2.destroyAllWindows()\n",
    "            "
   ]
  },
  {
   "cell_type": "markdown",
   "metadata": {},
   "source": [
    "# Detecting Eyes"
   ]
  },
  {
   "cell_type": "markdown",
   "metadata": {},
   "source": [
    "Let's see how to build an eye detector:"
   ]
  },
  {
   "cell_type": "code",
   "execution_count": null,
   "metadata": {},
   "outputs": [],
   "source": [
    "# import important package\n",
    "\n",
    "import cv2 \n",
    "import numpy as np \n",
    "from os import path \n",
    "import matplotlib.pyplot as plt \n",
    "%matplotlib inline"
   ]
  },
  {
   "cell_type": "code",
   "execution_count": null,
   "metadata": {},
   "outputs": [],
   "source": [
    "xml_classifier = path.join(path.dirname(cv2.__file__),'data','haarcascade_frontalface_default.xml')\n",
    "face_cascade = cv2.CascadeClassifier(xml_classifier)\n",
    "\n",
    "xml_classifier = path.join(path.dirname(cv2.__file__),'data','haarcascade_eye.xml')\n",
    "eye_cascade = cv2.CascadeClassifier(xml_classifier)\n",
    "\n",
    "cap = cv2.VideoCapture(0)\n",
    "scalling_factor = 0.5\n",
    "\n",
    "while True:\n",
    "    ret,frame = cap.read()\n",
    "    frame = cv2.resize(frame,None,fx=scalling_factor,fy=scalling_factor,interpolation=cv2.INTER_AREA)\n",
    "    gray = cv2.cvtColor(frame,cv2.COLOR_BGR2GRAY)\n",
    "    \n",
    "    faces = face_cascade.detectMultiScale(gray,1.3,5)\n",
    "    \n",
    "    for (x,y,w,h) in faces:\n",
    "        roi_gray  = gray[y:y+h , x:x+w] # face in gray level \n",
    "        roi_frame = frame[y:y+h , x:x+w] # face in RGB level \n",
    "        eyes = eye_cascade.detectMultiScale(roi_gray)\n",
    "        for(xe,ye,we,he) in eyes:\n",
    "            center = (int(xe + 0.5*we ),int(ye+0.5*he))\n",
    "            radius = int(0.3*(we+he))\n",
    "            color = (0,255,0)\n",
    "            thickness = 3\n",
    "            cv2.circle(roi_frame,center,radius,color,thickness)\n",
    "        \n",
    "    cv2.imshow('eye detector',frame)\n",
    "    cv2.imshow('face gray',roi_gray)\n",
    "    cv2.imshow('face BGR',roi_frame)\n",
    "        \n",
    "    c=cv2.waitKey(1)\n",
    "    if c==27:\n",
    "        break\n",
    "            \n",
    "cap.release()\n",
    "cv2.destroyAllWindows()"
   ]
  },
  {
   "cell_type": "markdown",
   "metadata": {},
   "source": [
    "# Fun with eyes"
   ]
  },
  {
   "cell_type": "code",
   "execution_count": null,
   "metadata": {},
   "outputs": [],
   "source": [
    "# import important package\n",
    "\n",
    "import cv2 \n",
    "import numpy as np \n",
    "from os import path \n",
    "import matplotlib.pyplot as plt \n",
    "%matplotlib inline"
   ]
  },
  {
   "cell_type": "code",
   "execution_count": null,
   "metadata": {},
   "outputs": [],
   "source": [
    "xml_classifier = path.join(path.dirname(cv2.__file__),'data','haarcascade_frontalface_default.xml')\n",
    "face_cascade = cv2.CascadeClassifier(xml_classifier)\n",
    "\n",
    "xml_classifier = path.join(path.dirname(cv2.__file__),'data','haarcascade_eye.xml')\n",
    "eye_cascade = cv2.CascadeClassifier(xml_classifier)\n",
    "\n",
    "img = cv2.imread('1.jpg')\n",
    "sunglass = cv2.imread('3.png')\n",
    "\n",
    "gray = cv2.cvtColor(img , cv2.COLOR_BGR2GRAY)\n",
    "\n",
    "centers = []\n",
    "faces = face_cascade.detectMultiScale(gray,1.3,5)\n",
    "\n",
    "for(x,y,w,h) in faces:\n",
    "    roi_gray = gray[y:y+h , x:x+w]\n",
    "    roi_color = img[y:y+h , x:x+w]\n",
    "#     cv2.imshow('Sunglasses', roi_gray)    \n",
    "#     cv2.waitKey()    \n",
    "#     cv2.destroyAllWindows()\n",
    "    eyes = eye_cascade.detectMultiScale(roi_gray,1.3,5)\n",
    "    print('eyes is',eyes)\n",
    "    for(xe,ye,we,he) in eyes:\n",
    "        centers.append(( int(x)+int(xe+0.5*we), int(y)+int(ye+0.5*he)))\n",
    "\n",
    "print('here')\n",
    "    \n",
    "if len(centers) > 0 :\n",
    "    # Overlay sunglasses; the factor 2.12 is customizable depending on the size of the face\n",
    "    sunglasses_width = 2.12 * abs(centers[1][0] - centers[0][0])\n",
    "    overlay_img = np.ones(img.shape, np.uint8) * 255\n",
    "    \n",
    "#     cv2.imshow('overlay',overlay_img)\n",
    "#     cv2.waitKey()\n",
    "#     cv2.destroyWindow()\n",
    "    \n",
    "    h, w = sunglass.shape[:2]\n",
    "    scaling_factor = sunglasses_width / w\n",
    "    overlay_sunglasses = cv2.resize(sunglass, None, fx=scaling_factor,fy=scaling_factor,interpolation=cv2.INTER_AREA)\n",
    "    \n",
    "#     cv2.imshow('overlay2',overlay_img)\n",
    "#     cv2.waitKey()\n",
    "#     cv2.destroy()\n",
    "    \n",
    "    x = centers[0][0] if centers[0][0] < centers[1][0] else centers[1][0]\n",
    "    \n",
    "    x -= int(0.26*overlay_sunglasses.shape[1])\n",
    "    y += int(0.85*overlay_sunglasses.shape[0])\n",
    "    \n",
    "    h, w = overlay_sunglasses.shape[:2]    \n",
    "    overlay_img[y:y+h, x:x+w] = overlay_sunglasses\n",
    "    \n",
    "    gray_sunglasses = cv2.cvtColor(overlay_img, cv2.COLOR_BGR2GRAY)    \n",
    "    ret, mask = cv2.threshold(gray_sunglasses, 110, 255, cv2.THRESH_BINARY)    \n",
    "    mask_inv = cv2.bitwise_not(mask)    \n",
    "    temp = cv2.bitwise_and(img, img, mask=mask)    \n",
    "    temp2 = cv2.bitwise_and(overlay_img, overlay_img, mask=mask_inv)    \n",
    "    final_img = cv2.add(temp, temp2)\n",
    "    \n",
    "    cv2.imshow('Eye Detector', img)    \n",
    "    cv2.imshow('Sunglasses', final_img)    \n",
    "    cv2.waitKey()    \n",
    "    cv2.destroyAllWindows()"
   ]
  },
  {
   "cell_type": "code",
   "execution_count": null,
   "metadata": {},
   "outputs": [],
   "source": []
  }
 ],
 "metadata": {
  "kernelspec": {
   "display_name": "Python 3",
   "language": "python",
   "name": "python3"
  },
  "language_info": {
   "codemirror_mode": {
    "name": "ipython",
    "version": 3
   },
   "file_extension": ".py",
   "mimetype": "text/x-python",
   "name": "python",
   "nbconvert_exporter": "python",
   "pygments_lexer": "ipython3",
   "version": "3.7.4"
  }
 },
 "nbformat": 4,
 "nbformat_minor": 2
}
